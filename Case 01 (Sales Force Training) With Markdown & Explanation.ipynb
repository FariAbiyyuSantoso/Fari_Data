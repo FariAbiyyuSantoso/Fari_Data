{
 "cells": [
  {
   "cell_type": "markdown",
   "id": "a3d86dbc-9604-4fc3-ae22-fccfe223574a",
   "metadata": {},
   "source": [
    "Perusahaan X ingin meningkatkan penjualan mereka. Dari data penjualan sebelumnya menunjukkan bahwa penjualan rata-rata yaitu $100 per transaksi. Setelah melakukan training kepada pekerja sales, data penjualan terbaru/'TransactionAmount' (yang diambil dari 25 sampel pekerja sales) "
   ]
  },
  {
   "cell_type": "code",
   "execution_count": 4,
   "id": "555f1ada-595a-4132-a763-dd4c266b2588",
   "metadata": {},
   "outputs": [],
   "source": [
    "import pandas as pd\n",
    "import numpy as np"
   ]
  },
  {
   "cell_type": "code",
   "execution_count": 5,
   "id": "63cd33a0-4017-4fa1-9da3-97f4b6954c85",
   "metadata": {},
   "outputs": [],
   "source": [
    "#Import Data penjualan setelah Melakukan Training Sales\n",
    "transaction_data = [100, 150, 50, 100, 130, 120, 100, 85, 70, 150, 150, 120, 50, 100, 100, 140, 90, 150, 50, 90, 120, 100, 110, 75, 65]"
   ]
  },
  {
   "cell_type": "code",
   "execution_count": 6,
   "id": "2968f7db-1970-412a-948a-bf8fcbdc5406",
   "metadata": {},
   "outputs": [],
   "source": [
    "#Membuat DataFrame menggunakan Pandas\n",
    "df = pd.DataFrame(transaction_data, columns=['TransactionAmount'])"
   ]
  },
  {
   "cell_type": "code",
   "execution_count": 7,
   "id": "6bef27f7-c2dc-4148-8d80-34eba2ff68a2",
   "metadata": {},
   "outputs": [
    {
     "name": "stdout",
     "output_type": "stream",
     "text": [
      "    TransactionAmount\n",
      "0                 100\n",
      "1                 150\n",
      "2                  50\n",
      "3                 100\n",
      "4                 130\n",
      "5                 120\n",
      "6                 100\n",
      "7                  85\n",
      "8                  70\n",
      "9                 150\n",
      "10                150\n",
      "11                120\n",
      "12                 50\n",
      "13                100\n",
      "14                100\n",
      "15                140\n",
      "16                 90\n",
      "17                150\n",
      "18                 50\n",
      "19                 90\n",
      "20                120\n",
      "21                100\n",
      "22                110\n",
      "23                 75\n",
      "24                 65\n"
     ]
    }
   ],
   "source": [
    "print(df)\n"
   ]
  },
  {
   "cell_type": "code",
   "execution_count": 8,
   "id": "2a397b8f-860f-4603-a664-132d7dde0213",
   "metadata": {},
   "outputs": [
    {
     "name": "stdout",
     "output_type": "stream",
     "text": [
      "Mean: $102.6\n",
      "Median: $100.0\n",
      "Mode: $100\n"
     ]
    }
   ],
   "source": [
    "#Mencari Mean, Median & Mode\n",
    "mean_value = df['TransactionAmount'].mean()\n",
    "median_value = df['TransactionAmount'].median()\n",
    "mode_value = df['TransactionAmount'].mode()[0]\n",
    "\n",
    "print(f\"Mean: ${mean_value}\")\n",
    "print(f\"Median: ${median_value}\")\n",
    "print(f\"Mode: ${mode_value}\")"
   ]
  },
  {
   "cell_type": "code",
   "execution_count": 9,
   "id": "ee440202-0787-4018-b47a-d1e6eb3ce054",
   "metadata": {},
   "outputs": [
    {
     "name": "stdout",
     "output_type": "stream",
     "text": [
      "Range: $100\n",
      "Variance: $1012.7499999999997\n",
      "Standard Deviation: $31.82373328193912\n"
     ]
    }
   ],
   "source": [
    "#menghitung beberapa statistik deskriptif (range, variance, dan standard deviation)\n",
    "range_value = df['TransactionAmount'].max() - df['TransactionAmount'].min()\n",
    "variance_value = df['TransactionAmount'].var()\n",
    "std_dev_value = df['TransactionAmount'].std()\n",
    "\n",
    "print(f\"Range: ${range_value}\")\n",
    "print(f\"Variance: ${variance_value}\")\n",
    "print(f\"Standard Deviation: ${std_dev_value}\")"
   ]
  },
  {
   "cell_type": "code",
   "execution_count": 10,
   "id": "8aba2aae-df45-415e-9aac-f59c0caeeaff",
   "metadata": {},
   "outputs": [],
   "source": [
    "from scipy import stats\n"
   ]
  },
  {
   "cell_type": "code",
   "execution_count": 11,
   "id": "974445a6-5db5-4465-862c-6b7b150a34a6",
   "metadata": {},
   "outputs": [],
   "source": [
    "#Data Penjualan Sebelum Melakukan Training Pada Sales\n",
    "population_mean = 100\n"
   ]
  },
  {
   "cell_type": "code",
   "execution_count": 12,
   "id": "d51f5af8-1bbf-4d7d-ab07-e0560ff31259",
   "metadata": {},
   "outputs": [
    {
     "name": "stdout",
     "output_type": "stream",
     "text": [
      "T-Statistic: 0.4085001556802841\n",
      "P-Value: 0.6865284813438117\n"
     ]
    }
   ],
   "source": [
    "#Mencari t statistics & P-Value dengan mengeksekusi one sample t-test\n",
    "t_statistic, p_value = stats.ttest_1samp(df['TransactionAmount'], population_mean)\n",
    "\n",
    "print(f\"T-Statistic: {t_statistic}\")\n",
    "print(f\"P-Value: {p_value}\")"
   ]
  },
  {
   "cell_type": "markdown",
   "id": "5337993a-8af7-4c8b-a054-69f333fc6d1e",
   "metadata": {},
   "source": [
    "P-Value 0.68 > dari Alpha (0.05) Maka Gagal untuk menolak H0\n",
    "Maka Konklusi dari hasil ini adalah Training Sales merupakan Kegiatan yang kurang efektif dalam meningkatkan penjualan"
   ]
  },
  {
   "cell_type": "code",
   "execution_count": 14,
   "id": "38e6122f-6c5b-4892-8b80-c8fb34d296e0",
   "metadata": {},
   "outputs": [
    {
     "data": {
      "text/plain": [
       "1.7138715277470473"
      ]
     },
     "execution_count": 14,
     "metadata": {},
     "output_type": "execute_result"
    }
   ],
   "source": [
    "#Untuk tes konklusi hasil t statistic kita bandingkan dengan critical region\n",
    "#H1 lebih besar maka grafik akan condong ke kanan\n",
    "stats.t.ppf(1-0.05, 23)"
   ]
  },
  {
   "cell_type": "markdown",
   "id": "7da577d9-ae1a-4739-93d6-917e7885dc6e",
   "metadata": {},
   "source": [
    "Critical region berada pada 1.71 sedangkan t statistik ada pada 0.40, Maka t statistik tidak ada di critical region(Gagal menolak H0)"
   ]
  },
  {
   "cell_type": "code",
   "execution_count": null,
   "id": "5ca7ffc3-0e6a-4970-a54c-6b39e93309a7",
   "metadata": {},
   "outputs": [],
   "source": []
  }
 ],
 "metadata": {
  "kernelspec": {
   "display_name": "Python 3 (ipykernel)",
   "language": "python",
   "name": "python3"
  },
  "language_info": {
   "codemirror_mode": {
    "name": "ipython",
    "version": 3
   },
   "file_extension": ".py",
   "mimetype": "text/x-python",
   "name": "python",
   "nbconvert_exporter": "python",
   "pygments_lexer": "ipython3",
   "version": "3.12.4"
  }
 },
 "nbformat": 4,
 "nbformat_minor": 5
}
